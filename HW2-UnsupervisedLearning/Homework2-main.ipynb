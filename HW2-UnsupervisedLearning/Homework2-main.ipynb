{
 "cells": [
  {
   "cell_type": "markdown",
   "metadata": {
    "id": "X9nMupgOkVa8"
   },
   "source": [
    "# NEURAL NETWORKS AND DEEP LEARNING\n",
    "\n",
    "---\n",
    "A.A. 2021/22 (6 CFU) - Dr. Alberto Testolin, Dr. Umberto Michieli\n",
    "---\n",
    "\n",
    "\n",
    "# Homework 2 - Unsupervised Deep Learning"
   ]
  },
  {
   "cell_type": "markdown",
   "metadata": {
    "id": "Rx94AFKGkVbQ"
   },
   "source": [
    "### Author: Michele Guadagnini - Mt.1230663"
   ]
  },
  {
   "cell_type": "code",
   "execution_count": 1,
   "metadata": {
    "id": "TC5QuD24kVbW"
   },
   "outputs": [],
   "source": [
    "### ADDITIONAL LIBRARIES THAT NEED INSTALLATION (uncomment if needed)\n",
    "\n",
    "#!pip install optuna\n",
    "#!pip install pytorch-lightning\n",
    "\n",
    "### the followings are required to plot and save figures about optuna study\n",
    "#!pip install plotly\n",
    "#!pip install kaleido\n",
    "\n",
    "### the following one is required to print a model summary\n",
    "#!pip install torchinfo"
   ]
  },
  {
   "cell_type": "code",
   "execution_count": 2,
   "metadata": {
    "id": "t-xNC0ynkVba"
   },
   "outputs": [],
   "source": [
    "# PyTorch imports\n",
    "import torch\n",
    "import torch.nn as nn\n",
    "import torch.optim as optim\n",
    "from torch.utils.data import Dataset, DataLoader, Subset\n",
    "from torch.utils.data import random_split\n",
    "import torchvision\n",
    "from torchvision import transforms\n",
    "\n",
    "# python imports\n",
    "import os\n",
    "import numpy as np\n",
    "import pandas as pd\n",
    "import matplotlib.pyplot as plt\n",
    "import time\n",
    "import copy\n",
    "import logging\n",
    "import datetime\n",
    "import json\n",
    "\n",
    "# additional libraries\n",
    "import plotly.express as px\n",
    "import torchinfo\n",
    "import optuna\n",
    "import pytorch_lightning as pl\n",
    "\n",
    "# reduce verbosity \n",
    "logging.getLogger(\"optuna\").setLevel(logging.ERROR)\n",
    "logging.getLogger(\"pytorch_lightning\").setLevel(logging.WARNING)"
   ]
  },
  {
   "cell_type": "code",
   "execution_count": 3,
   "metadata": {},
   "outputs": [],
   "source": [
    "# to have reproducible results: \n",
    "from pytorch_lightning.utilities.seed import seed_everything\n",
    "\n",
    "### 'seed_everything' internally calls the followings:\n",
    "#    random.seed(seed)\n",
    "#    np.random.seed(seed)\n",
    "#    torch.manual_seed(seed)\n",
    "#    torch.cuda.manual_seed_all(seed)"
   ]
  },
  {
   "cell_type": "code",
   "execution_count": 4,
   "metadata": {},
   "outputs": [
    {
     "name": "stdout",
     "output_type": "stream",
     "text": [
      "GPU not available\n",
      "Available CPU cores: 2\n"
     ]
    }
   ],
   "source": [
    "# load user settings from file 'settings.py'\n",
    "import settings"
   ]
  },
  {
   "cell_type": "markdown",
   "metadata": {},
   "source": [
    "# Table of contents:  <a name=\"toc\"></a>\n",
    "\n",
    "1. [**Autoencoder**](#autoencoder)\n",
    "    1. Hyper-parameters optimization with Optuna\n",
    "    1. Study results analysis\n",
    "    1. Model training\n",
    "    1. Model testing and analysis\n",
    "        * Latent Space exploration\n",
    "        * Image generation from latent codes\n",
    "        * Convolutional filters visualization **TODO**\n",
    "        \n",
    "1. [**Transfer Learning**](#transfer_learning)\n",
    "    1. fine tune the denoising encoder \n",
    "    1. compare results with homework 1\n",
    "\n",
    "1. [**Denoising autoencoder**](#denoising_autoencoder)\n",
    "    1. hyper-parameters tuning (optuna anche qui??)\n",
    "    1. training (with denoising example per epoch)\n",
    "    1. test the denoising capability\n",
    "\n",
    "1. [**Variational Autoencoder ($\\beta$-VAE)**](#VAE)\n",
    "    1. tune and train the model\n",
    "    1. explore latent space\n",
    "    1. generate samples"
   ]
  },
  {
   "cell_type": "markdown",
   "metadata": {
    "id": "FYQGjzJlkVbT"
   },
   "source": [
    "# Autoencoder <a name=\"autoencoder\"></a> \n",
    "<div style=\"text-align: right\"\n",
    "     \n",
    "[Table of contents](#toc) "
   ]
  },
  {
   "cell_type": "code",
   "execution_count": 5,
   "metadata": {},
   "outputs": [
    {
     "data": {
      "text/plain": [
       "23"
      ]
     },
     "execution_count": 5,
     "metadata": {},
     "output_type": "execute_result"
    }
   ],
   "source": [
    "# set random state\n",
    "seed_everything(seed=settings.MAGIC_NUM)"
   ]
  },
  {
   "cell_type": "markdown",
   "metadata": {},
   "source": [
    "## Hyper-parameters optimization with Optuna"
   ]
  },
  {
   "cell_type": "code",
   "execution_count": 6,
   "metadata": {},
   "outputs": [],
   "source": [
    "from data_management.fashion_mnist import FashionMNISTDataModule\n",
    "\n",
    "datamodule = FashionMNISTDataModule(data_dir   = settings.DATASETS_DIR, \n",
    "                                    batch_size = 256,\n",
    "                                    Nsamples   = 16384,\n",
    "                                    valid_frac = 1./4.,\n",
    "                                    random_state = settings.MAGIC_NUM,\n",
    "                                   )"
   ]
  },
  {
   "cell_type": "code",
   "execution_count": 7,
   "metadata": {},
   "outputs": [],
   "source": [
    "from autoencoder.symmetric_autoencoder import SymmetricAutoencoder, SymmetricAutoencoderHPS\n",
    "\n",
    "# convolutional architectures definition\n",
    "### each line is: kernel size, stride, padding\n",
    "proposed_conv = [ [[3, 2, 0], # shape through network: 28   -> 13 -> 13 -> 6 -> 6 -> 4\n",
    "                   [3, 1, 1],\n",
    "                   [3, 2, 0],\n",
    "                   [3, 1, 1],\n",
    "                   [3, 1, 0],\n",
    "                  ],\n",
    "                  [[5, 2, 1], # shape through network: 28   -> 13 -> 13 -> 6 -> 6 -> 4\n",
    "                   [3, 1, 1],\n",
    "                   [3, 2, 0],\n",
    "                   [3, 1, 1],\n",
    "                   [3, 1, 0],\n",
    "                  ],\n",
    "                  [[3, 2, 1], # shape through network: 28   -> 14 ->  8 -> 4 -> 4 -> 2\n",
    "                   [3, 2, 2],\n",
    "                   [3, 2, 1],\n",
    "                   [3, 1, 1],\n",
    "                   [3, 2, 1],\n",
    "                  ],\n",
    "                  [[5, 2, 1], # shape through network: 28   -> 13 -> 13 -> 6 -> 6 -> 4\n",
    "                   [3, 1, 1],\n",
    "                   [5, 2, 1],\n",
    "                   [3, 1, 1],\n",
    "                   [5, 1, 1],\n",
    "                  ],\n",
    "                  [[7, 2, 2], # shape through network: 28   -> 13 ->  8 -> 8 -> 4 -> 4\n",
    "                   [3, 2, 2],\n",
    "                   [3, 1, 1],\n",
    "                   [3, 2, 1],\n",
    "                   [3, 1, 1],\n",
    "                  ],\n",
    "                  [[5, 2, 1], # shape through network: 28   -> 13 -> 13 -> 7 -> 7 -> 5\n",
    "                   [5, 1, 2],\n",
    "                   [5, 2, 2],\n",
    "                   [5, 1, 2],\n",
    "                   [5, 1, 1],\n",
    "                  ],\n",
    "                  [[3, 2, 1], # shape through network: 28   -> 14 -> 14 -> 6 -> 6 -> 4\n",
    "                   [5, 1, 2],\n",
    "                   [5, 2, 1],\n",
    "                   [3, 1, 1],\n",
    "                   [5, 1, 1],\n",
    "                  ],\n",
    "                ]\n",
    "\n",
    "# channels configurations definition\n",
    "proposed_channels = [[16,32,32, 64, 64],\n",
    "                     [16,32,64, 64, 64],\n",
    "                     [16,32,64, 64, 32],\n",
    "                     [16,32,64,128, 64],\n",
    "                     [16,32,32, 32, 64],\n",
    "                     [32,32,64, 64,128],\n",
    "                     [32,32,32, 64, 64],\n",
    "                    ]\n",
    "\n",
    "# hyper-parameters space dictionary\n",
    "# Notes:\n",
    "### 1. no batch norm to ensure independence of encodings for different images. Instance norm instead.\n",
    "### 2. dropout is applied only after a linear layer\n",
    "\n",
    "hps_dict = dict(conv_configs        = proposed_conv,  \n",
    "                channels_configs    = proposed_channels,  \n",
    "                n_linear            = [1],                # number of linear layers\n",
    "                linear_units_range  = [64, 256, 16],      # min, max, step\n",
    "                latent_space_range  = [30, 80, 2],        # min, max, step\n",
    "                instance_norm       = [True, False],      # instance norm\n",
    "                Pdropout_range      = [0., 0.3],          # dropout\n",
    "                activations         = [\"relu\"],       \n",
    "                optimizers          = [\"adam\", \"sgd\", \"adamax\"], \n",
    "                learning_rate_range = [5e-5, 1e-1],\n",
    "                L2_penalty_range    = [1e-6, 1e-4],\n",
    "                momentum_range      = [0.8, 0.99],        # used with SGD optimizer or RMSprop\n",
    "               )\n",
    "\n",
    "hp_space = SymmetricAutoencoderHPS(hps_dict)"
   ]
  },
  {
   "cell_type": "code",
   "execution_count": 8,
   "metadata": {},
   "outputs": [],
   "source": [
    "from utilities.train_tools import Objective\n",
    "\n",
    "### optuna study objective function\n",
    "objective = Objective(model_class = SymmetricAutoencoder, \n",
    "                      datamodule  = datamodule, \n",
    "                      hp_space    = hp_space,\n",
    "                      max_epochs  = 30, \n",
    "                      use_gpu     = settings.USE_GPU,\n",
    "                      early_stop_patience = 5,\n",
    "                     )\n",
    "\n",
    "### MedianPruner\n",
    "pruner = optuna.pruners.MedianPruner(n_startup_trials = 10,    # trials to complete before starting to prune\n",
    "                                     n_warmup_steps   = 20,    # steps to take before evaluating pruning\n",
    "                                     interval_steps   = 10,    # steps between trial pruning checks\n",
    "                                    )\n",
    "\n",
    "# Make the default sampler behave in a deterministic way\n",
    "sampler = optuna.samplers.TPESampler(seed = settings.MAGIC_NUM,\n",
    "                                     n_startup_trials = 20,    # use random sampling at beginning\n",
    "                                    )\n",
    "### create study\n",
    "os.makedirs(settings.autoencoder.OPTUNA_DIR, exist_ok=True)\n",
    "\n",
    "study_name = settings.autoencoder.OPTUNA_STUDY_NAME\n",
    "study = optuna.create_study(study_name = study_name, \n",
    "                            direction  = \"minimize\",\n",
    "                            pruner     = pruner,\n",
    "                            sampler    = sampler,\n",
    "                            storage    = \"sqlite:///\"+settings.autoencoder.OPTUNA_DIR+\"/\"+study_name+\"_16384.db\",\n",
    "                            load_if_exists = True,\n",
    "                           )\n"
   ]
  },
  {
   "cell_type": "code",
   "execution_count": null,
   "metadata": {},
   "outputs": [
    {
     "name": "stdout",
     "output_type": "stream",
     "text": [
      "Starting study 'HP_search_autoencoder' with n_trials=5 and timeout=None\n",
      "Trial [0] started at: 05/04/2022 23:57:55\n"
     ]
    },
    {
     "data": {
      "application/vnd.jupyter.widget-view+json": {
       "model_id": "",
       "version_major": 2,
       "version_minor": 0
      },
      "text/plain": [
       "HBox(children=(HTML(value='Validation sanity check'), FloatProgress(value=1.0, bar_style='info', layout=Layout…"
      ]
     },
     "metadata": {},
     "output_type": "display_data"
    },
    {
     "data": {
      "application/vnd.jupyter.widget-view+json": {
       "model_id": "341e49a3f3dc4fd8ba641a3c99558bf8",
       "version_major": 2,
       "version_minor": 0
      },
      "text/plain": [
       "HBox(children=(HTML(value='Training'), FloatProgress(value=1.0, bar_style='info', layout=Layout(flex='2'), max…"
      ]
     },
     "metadata": {},
     "output_type": "display_data"
    },
    {
     "data": {
      "application/vnd.jupyter.widget-view+json": {
       "model_id": "",
       "version_major": 2,
       "version_minor": 0
      },
      "text/plain": [
       "HBox(children=(HTML(value='Validating'), FloatProgress(value=1.0, bar_style='info', layout=Layout(flex='2'), m…"
      ]
     },
     "metadata": {},
     "output_type": "display_data"
    },
    {
     "data": {
      "application/vnd.jupyter.widget-view+json": {
       "model_id": "",
       "version_major": 2,
       "version_minor": 0
      },
      "text/plain": [
       "HBox(children=(HTML(value='Validating'), FloatProgress(value=1.0, bar_style='info', layout=Layout(flex='2'), m…"
      ]
     },
     "metadata": {},
     "output_type": "display_data"
    }
   ],
   "source": [
    "### run optimization\n",
    "logging.captureWarnings(True)\n",
    "\n",
    "Ntrials = 5\n",
    "MaxTime = None\n",
    "\n",
    "print(\"Starting study '\"+study.study_name+f\"' with n_trials={Ntrials} and timeout={MaxTime}\")\n",
    "study.optimize(objective, \n",
    "               n_trials       = Ntrials, \n",
    "               timeout        = MaxTime, # timeout in seconds\n",
    "               gc_after_trial = True,    # run garbage collection \n",
    "              ) \n",
    "\n",
    "logging.captureWarnings(False)"
   ]
  },
  {
   "cell_type": "markdown",
   "metadata": {},
   "source": [
    "## Study results analysis"
   ]
  },
  {
   "cell_type": "code",
   "execution_count": null,
   "metadata": {},
   "outputs": [],
   "source": [
    "study_name = settings.autoencoder.OPTUNA_STUDY_NAME # name of the study (used also for storage)\n",
    "study = optuna.load_study(study_name, \n",
    "                          storage = \"sqlite:///\"+settings.autoencoder.OPTUNA_DIR+\"/\"+study_name+\"_16384.db\",\n",
    "                         )"
   ]
  },
  {
   "cell_type": "code",
   "execution_count": null,
   "metadata": {
    "scrolled": false
   },
   "outputs": [],
   "source": [
    "# print dataframe with top-K trials\n",
    "K = 10\n",
    "\n",
    "study_df = study.trials_dataframe()\n",
    "study_df.drop(columns=\"user_attrs_hypers\", inplace=True)\n",
    "study_df.drop(columns=\"datetime_complete\", inplace=True)\n",
    "study_df = study_df.sort_values(by=\"value\")\n",
    "\n",
    "study_df.head(K)"
   ]
  },
  {
   "cell_type": "code",
   "execution_count": null,
   "metadata": {},
   "outputs": [],
   "source": [
    "from utilities.train_tools import OptimizationInspector\n",
    "\n",
    "optuna_inspector = OptimizationInspector(study, settings.autoencoder.OPTUNA_DIR, figsize=(900,500))"
   ]
  },
  {
   "cell_type": "code",
   "execution_count": null,
   "metadata": {},
   "outputs": [],
   "source": [
    "# parameters sets for parallel plots \n",
    "parallel_sets = [[\"architecture\", #name suffix\n",
    "                  \"channels_config_id\",\"conv_config_id\", \"latent_space_dim\",\n",
    "                  \"linear_units_0\", #\"linear_units_1\",\n",
    "                 ],\n",
    "                 [\"optimization\", #name suffix\n",
    "                  \"optimizer\",\"learning_rate\",\"L2_penalty\",\"instance_norm\",\n",
    "                  \"Pdropout\", #\"momentum\",\n",
    "                 ],\n",
    "                ]\n",
    "\n",
    "# parameters sets for contour plots\n",
    "contour_sets = [[\"learning_rate\",\"L2_penalty\"],\n",
    "                [\"channels_config_id\",\"conv_config_id\"],\n",
    "                [\"linear_units_0\", \"latent_space_dim\"],\n",
    "               ]\n",
    "\n",
    "# parameters sets for slice plots\n",
    "slice_sets   = [[\"channels_config_id\",\"conv_config_id\",\"latent_space_dim\",\"linear_units_0\",\"optimizer\"],\n",
    "               ]"
   ]
  },
  {
   "cell_type": "code",
   "execution_count": null,
   "metadata": {
    "scrolled": false
   },
   "outputs": [],
   "source": [
    "optuna_inspector.plot_all(parallel_sets = parallel_sets,\n",
    "                          contour_sets  = contour_sets,\n",
    "                          slice_sets    = slice_sets,\n",
    "                          save = True,\n",
    "                          show = \"110001000\",    # show options\n",
    "                         )"
   ]
  },
  {
   "cell_type": "code",
   "execution_count": null,
   "metadata": {},
   "outputs": [],
   "source": [
    "optuna_inspector.print_summary()\n",
    "optuna_inspector.save_best_hypers_json(settings.autoencoder.BEST_HYPERS_FILE)"
   ]
  },
  {
   "cell_type": "markdown",
   "metadata": {},
   "source": [
    "## Model training"
   ]
  },
  {
   "cell_type": "code",
   "execution_count": null,
   "metadata": {},
   "outputs": [],
   "source": [
    "import json\n",
    "\n",
    "# read best hyper-parameters from file\n",
    "with open(settings.autoencoder.BEST_HYPERS_FILE, \"r\") as file:\n",
    "    best_hypers = json.load(file)"
   ]
  },
  {
   "cell_type": "code",
   "execution_count": null,
   "metadata": {},
   "outputs": [],
   "source": [
    "from data_management.fashion_mnist import FashionMNISTDataModule\n",
    "\n",
    "### define datamodule\n",
    "datamodule = FashionMNISTDataModule(data_dir   = settings.DATASETS_DIR, \n",
    "                                    batch_size = 256,\n",
    "                                    Nsamples   = None,\n",
    "                                    valid_frac = 8800./60000.,\n",
    "                                    random_state = settings.MAGIC_NUM,\n",
    "                                   )"
   ]
  },
  {
   "cell_type": "markdown",
   "metadata": {},
   "source": [
    "In the cell below a summary of the model to train is showed."
   ]
  },
  {
   "cell_type": "code",
   "execution_count": null,
   "metadata": {},
   "outputs": [],
   "source": [
    "from autoencoder.symmetric_autoencoder import SymmetricAutoencoder\n",
    "\n",
    "# print model summary\n",
    "shape = datamodule.get_sample_size()\n",
    "net   = SymmetricAutoencoder(shape, \n",
    "                             params        = best_hypers[\"params\"],\n",
    "                             optimizer     = best_hypers[\"optimizer\"],\n",
    "                             learning_rate = best_hypers[\"learning_rate\"],\n",
    "                             L2_penalty    = best_hypers[\"L2_penalty\"],\n",
    "                             momentum      = best_hypers[\"momentum\"],\n",
    "                            )\n",
    "\n",
    "# build dummy data batch \n",
    "dummy_batch = list(shape)\n",
    "dummy_batch.insert(0, 256)\n",
    "\n",
    "# print summary\n",
    "torchinfo.summary(net, \n",
    "                  dummy_batch, \n",
    "                  col_width = 17, \n",
    "                  col_names = (\"input_size\",\"output_size\",\"num_params\",\"mult_adds\",),\n",
    "                  depth     = 4, \n",
    "                  row_settings = (\"var_names\",),\n",
    "                 )"
   ]
  },
  {
   "cell_type": "markdown",
   "metadata": {},
   "source": [
    "In the following cell we define some callbacks that will be useful during and after training."
   ]
  },
  {
   "cell_type": "code",
   "execution_count": null,
   "metadata": {},
   "outputs": [],
   "source": [
    "from utilities.train_tools import run_training, LossesTracker\n",
    "from pytorch_lightning.callbacks import EarlyStopping, ModelCheckpoint\n",
    "from utilities.encoder_tools import ImageReconstruction\n",
    "\n",
    "### callbacks\n",
    "# track the losses (train and valid) during training\n",
    "losses_tracker = LossesTracker()\n",
    "\n",
    "# early stopping\n",
    "early_stop = EarlyStopping(monitor=\"val_loss\", \n",
    "                           min_delta=0.0001, \n",
    "                           patience=5, \n",
    "                           verbose=False, \n",
    "                           check_on_train_epoch_end=True, # check early_stop at end of training epoch\n",
    "                          )\n",
    "\n",
    "# checkpoint the model if the monitored value improved\n",
    "checkpoint = ModelCheckpoint(dirpath  = settings.CHECKPOINT_DIR, \n",
    "                             filename = \"checkpt_{epoch}_{val_loss:.2f}\", \n",
    "                             monitor  = \"val_loss\",\n",
    "                            )\n",
    "\n",
    "# reconstruction of a test sample at every epoch\n",
    "sample_id = 2\n",
    "dataset = torchvision.datasets.FashionMNIST(settings.DATASETS_DIR, \n",
    "                                            train    = False, \n",
    "                                            download = True,\n",
    "                                           )\n",
    "sample = transforms.functional.to_tensor(dataset[sample_id][0]).unsqueeze(dim=0)\n",
    "rec_path = settings.autoencoder.RECONSTRUCTIONS_DIR\n",
    "\n",
    "rec_callback = ImageReconstruction(sample, to_show=False, save_path=rec_path)"
   ]
  },
  {
   "cell_type": "code",
   "execution_count": null,
   "metadata": {},
   "outputs": [],
   "source": [
    "# measure running time\n",
    "fit_begin = time.time() \n",
    "\n",
    "model, trainer, callbacks = run_training(SymmetricAutoencoder, \n",
    "                                         datamodule = datamodule, \n",
    "                                         hypers     = best_hypers, \n",
    "                                         callbacks  = [losses_tracker, early_stop, checkpoint, rec_callback],\n",
    "                                         max_epochs = 50,\n",
    "                                         use_gpu    = settings.USE_GPU,\n",
    "                                        )\n",
    "\n",
    "fit_time = time.time() - fit_begin\n",
    "print(f\"Fit time:\", str(datetime.timedelta(seconds=fit_time)) )"
   ]
  },
  {
   "cell_type": "code",
   "execution_count": null,
   "metadata": {},
   "outputs": [],
   "source": [
    "from utilities.plot_tools import plot_history\n",
    "\n",
    "plot_history(losses_tracker.train, losses_tracker.valid, ylog=False)"
   ]
  },
  {
   "cell_type": "code",
   "execution_count": null,
   "metadata": {},
   "outputs": [],
   "source": [
    "import shutil\n",
    "\n",
    "# copy best model checkpoint into the results directory\n",
    "shutil.copy(checkpoint.best_model_path, settings.autoencoder.BEST_MODEL_CKPT_FILE)"
   ]
  },
  {
   "cell_type": "markdown",
   "metadata": {},
   "source": [
    "## Model testing and analysis"
   ]
  },
  {
   "cell_type": "code",
   "execution_count": null,
   "metadata": {},
   "outputs": [],
   "source": [
    "from pytorch_lightning.callbacks import ModelCheckpoint"
   ]
  },
  {
   "cell_type": "code",
   "execution_count": null,
   "metadata": {},
   "outputs": [],
   "source": [
    "### define datamodule\n",
    "datamodule = FashionMNISTDataModule(data_dir   = settings.DATASETS_DIR, \n",
    "                                    batch_size = 256,\n",
    "                                    Nsamples   = None,\n",
    "                                    valid_frac = 1/8.,\n",
    "                                    random_state = settings.MAGIC_NUM,\n",
    "                                   )\n",
    "\n",
    "### load model from checkpoint\n",
    "model = SymmetricAutoencoder.load_from_checkpoint( settings.autoencoder.BEST_MODEL_CKPT_FILE )  "
   ]
  },
  {
   "cell_type": "code",
   "execution_count": null,
   "metadata": {},
   "outputs": [],
   "source": [
    "from utilities.encoder_tools import EncodedRepresentation\n",
    "\n",
    "# callback to save the encoded representations of the test samples\n",
    "encoded_test_repr = EncodedRepresentation()\n",
    "\n",
    "trainer = pl.Trainer(logger     = False,\n",
    "                     gpus       = 1 if settings.USE_GPU else None,\n",
    "                     callbacks  = [encoded_test_repr],\n",
    "                     #enable_model_summary = False,\n",
    "                     #num_sanity_val_steps = 0,     # disable validation sanity check before training\n",
    "                    )\n",
    "\n",
    "result = trainer.test(model, datamodule=datamodule, verbose=False)\n",
    "test_loss = result[0][\"test_loss\"]\n",
    "print(\"TEST LOSS: \", test_loss)"
   ]
  },
  {
   "cell_type": "markdown",
   "metadata": {},
   "source": [
    "### Latent Space exploration"
   ]
  },
  {
   "cell_type": "code",
   "execution_count": null,
   "metadata": {},
   "outputs": [],
   "source": [
    "from utilities.encoder_tools import LatentSpaceAnalyzer\n",
    "\n",
    "# test dataset encoded samples\n",
    "label_names = [datamodule.get_label_names()[ii] for ii in encoded_test_repr.labels]\n",
    "\n",
    "Latent_analyzer = LatentSpaceAnalyzer(encoded_test_repr.encoded_samples,\n",
    "                                      encoded_test_repr.labels,\n",
    "                                      label_names,\n",
    "                                      save_path = settings.autoencoder.ROOT_DIR,\n",
    "                                     )"
   ]
  },
  {
   "cell_type": "code",
   "execution_count": null,
   "metadata": {},
   "outputs": [],
   "source": [
    "Latent_analyzer.PCA_reduce(n_components=2, filename=\"PCA_reduced_space.pdf\")"
   ]
  },
  {
   "cell_type": "code",
   "execution_count": null,
   "metadata": {},
   "outputs": [],
   "source": [
    "Latent_analyzer.TSNE_reduce(n_components=2, perplexity=80, filename=\"TSNE_reduced_space.pdf\")"
   ]
  },
  {
   "cell_type": "markdown",
   "metadata": {},
   "source": [
    "### Image generation from latent codes"
   ]
  },
  {
   "cell_type": "code",
   "execution_count": null,
   "metadata": {},
   "outputs": [],
   "source": [
    "from utilities.encoder_tools import generate_from_latent_code\n",
    "\n",
    "test_encodings_df = pd.DataFrame(encoded_test_repr.encoded_samples)\n",
    "test_enc_max = max(test_encodings_df.max())\n",
    "test_enc_min = min(test_encodings_df.min())\n",
    "\n",
    "print(f\"Range of test dataset encoded values: [{test_enc_min}, {test_enc_max}]\")\n",
    "\n",
    "# latent dimension\n",
    "latent_dim = model.enc_hp[\"latent_space_dim\"]\n",
    "\n",
    "### generate some examples of images from random latent codes\n",
    "examples  = 20\n",
    "images    = []\n",
    "encodings = []\n",
    "for ii in range(examples):\n",
    "    # randomly sample from latent space\n",
    "    latent_code = np.random.uniform(test_enc_min, test_enc_max, latent_dim)\n",
    "    encodings.append(latent_code)                                    # append encoding\n",
    "    images.append(generate_from_latent_code(latent_code, model))     # append image\n",
    "    \n",
    "encodings_df = pd.DataFrame(encodings)\n",
    "encodings_df"
   ]
  },
  {
   "cell_type": "code",
   "execution_count": null,
   "metadata": {},
   "outputs": [],
   "source": [
    "from utilities.plot_tools import plot_img_grid\n",
    "\n",
    "_ = plot_img_grid((4,5), images, to_show=True, axis_off=False, figsize=(10,8))"
   ]
  },
  {
   "cell_type": "markdown",
   "metadata": {},
   "source": [
    "### Convolutional filters visualization"
   ]
  },
  {
   "cell_type": "code",
   "execution_count": null,
   "metadata": {},
   "outputs": [],
   "source": [
    "# TODO "
   ]
  },
  {
   "cell_type": "markdown",
   "metadata": {},
   "source": [
    "# Transfer Learning <a name=\"transfer_learning\"></a>\n",
    "<div style=\"text-align: right\"\n",
    "     \n",
    "[Table of contents](#toc) "
   ]
  },
  {
   "cell_type": "code",
   "execution_count": null,
   "metadata": {},
   "outputs": [],
   "source": []
  },
  {
   "cell_type": "markdown",
   "metadata": {},
   "source": [
    "# Denoising Autoencoder <a name=\"denoising_autoencoder\"></a>\n",
    "<div style=\"text-align: right\"\n",
    "     \n",
    "[Table of contents](#toc) "
   ]
  },
  {
   "cell_type": "code",
   "execution_count": null,
   "metadata": {},
   "outputs": [],
   "source": []
  },
  {
   "cell_type": "markdown",
   "metadata": {},
   "source": [
    "# Variational Autoencoder <a name=\"VAE\"></a>\n",
    "<div style=\"text-align: right\"\n",
    "     \n",
    "[Table of contents](#toc) "
   ]
  },
  {
   "cell_type": "code",
   "execution_count": null,
   "metadata": {},
   "outputs": [],
   "source": []
  }
 ],
 "metadata": {
  "kernelspec": {
   "display_name": "Python 3",
   "language": "python",
   "name": "python3"
  },
  "language_info": {
   "codemirror_mode": {
    "name": "ipython",
    "version": 3
   },
   "file_extension": ".py",
   "mimetype": "text/x-python",
   "name": "python",
   "nbconvert_exporter": "python",
   "pygments_lexer": "ipython3",
   "version": "3.8.5"
  }
 },
 "nbformat": 4,
 "nbformat_minor": 4
}
