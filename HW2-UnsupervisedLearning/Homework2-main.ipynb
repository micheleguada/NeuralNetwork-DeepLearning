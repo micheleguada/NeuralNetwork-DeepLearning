{
 "cells": [
  {
   "cell_type": "markdown",
   "metadata": {
    "id": "X9nMupgOkVa8"
   },
   "source": [
    "# NEURAL NETWORKS AND DEEP LEARNING\n",
    "\n",
    "---\n",
    "A.A. 2021/22 (6 CFU) - Dr. Alberto Testolin, Dr. Umberto Michieli\n",
    "---\n",
    "\n",
    "\n",
    "# Homework 2 - Unsupervised Deep Learning"
   ]
  },
  {
   "cell_type": "markdown",
   "metadata": {
    "id": "Rx94AFKGkVbQ"
   },
   "source": [
    "### Author: Michele Guadagnini - Mt.1230663"
   ]
  },
  {
   "cell_type": "code",
   "execution_count": null,
   "metadata": {
    "id": "TC5QuD24kVbW"
   },
   "outputs": [],
   "source": [
    "### ADDITIONAL LIBRARIES THAT NEED INSTALLATION (uncomment if needed)\n",
    "\n",
    "#!pip install optuna\n",
    "#!pip install pytorch-lightning\n",
    "\n",
    "### the followings are required to plot and save figures about optuna study\n",
    "#!pip install plotly\n",
    "#!pip install kaleido\n",
    "\n",
    "### the following one is required to print a model summary\n",
    "#!pip install torchinfo"
   ]
  },
  {
   "cell_type": "code",
   "execution_count": null,
   "metadata": {
    "id": "t-xNC0ynkVba"
   },
   "outputs": [],
   "source": [
    "# PyTorch imports\n",
    "import torch\n",
    "import torch.nn as nn\n",
    "import torch.optim as optim\n",
    "from torch.utils.data import Dataset, DataLoader, Subset\n",
    "from torch.utils.data import random_split\n",
    "import torchvision\n",
    "from torchvision import transforms\n",
    "\n",
    "# python imports\n",
    "import os\n",
    "import numpy as np\n",
    "import pandas as pd\n",
    "import matplotlib.pyplot as plt\n",
    "import time\n",
    "import copy\n",
    "import logging\n",
    "import datetime\n",
    "import json\n",
    "\n",
    "# additional libraries\n",
    "import plotly.express as px\n",
    "from torchinfo import summary\n",
    "import optuna\n",
    "import pytorch_lightning as pl\n",
    "\n",
    "# reduce verbosity \n",
    "logging.getLogger(\"optuna\").setLevel(logging.ERROR)\n",
    "logging.getLogger(\"pytorch_lightning\").setLevel(logging.WARNING)"
   ]
  },
  {
   "cell_type": "code",
   "execution_count": null,
   "metadata": {},
   "outputs": [],
   "source": [
    "# to have reproducible results: \n",
    "from pytorch_lightning.utilities.seed import seed_everything\n",
    "\n",
    "### 'seed_everything' internally calls the followings:\n",
    "#    random.seed(seed)\n",
    "#    np.random.seed(seed)\n",
    "#    torch.manual_seed(seed)\n",
    "#    torch.cuda.manual_seed_all(seed)"
   ]
  },
  {
   "cell_type": "code",
   "execution_count": null,
   "metadata": {},
   "outputs": [],
   "source": [
    "# load user settings from file 'settings.py'\n",
    "import settings"
   ]
  },
  {
   "cell_type": "markdown",
   "metadata": {},
   "source": [
    "# Table of contents:  <a name=\"toc\"></a>\n",
    "\n",
    "1. [**Autoencoder**](#autoencoder)\n",
    "    1. optuna optimization\n",
    "    1. training (with reconstruction example per epoch)\n",
    "    1. analyze the network and the latent space\n",
    "\n",
    "1. [**Denoising autoencoder**](#denoising_autoencoder)\n",
    "    1. hyper-parameters tuning (optuna anche qui??)\n",
    "    1. training (with denoising example per epoch)\n",
    "    1. test the denoising capability\n",
    "\n",
    "1. [**Transfer Learning**](#transfer_learning)\n",
    "    1. fine tune the denoising encoder \n",
    "    1. compare results with homework 1\n",
    "\n",
    "1. [**Variational Autoencoder ($\\beta$-VAE)**](#VAE)\n",
    "    1. tune and train the model\n",
    "    1. explore latent space\n",
    "    1. generate samples"
   ]
  },
  {
   "cell_type": "markdown",
   "metadata": {
    "id": "FYQGjzJlkVbT"
   },
   "source": [
    "# Autoencoder <a name=\"autoencoder\"></a> \n",
    "<div style=\"text-align: right\"\n",
    "     \n",
    "[Table of contents](#toc) "
   ]
  },
  {
   "cell_type": "code",
   "execution_count": null,
   "metadata": {},
   "outputs": [],
   "source": [
    "# set random state\n",
    "seed_everything(seed=settings.MAGIC_NUM)"
   ]
  },
  {
   "cell_type": "code",
   "execution_count": null,
   "metadata": {},
   "outputs": [],
   "source": [
    "from autoencoder.symmetric_autoencoder import SymmetricAutoencoder, SymmetricAutoencoderHPS\n",
    "from data_management.fashion_mnist import FashionMNISTDataModule"
   ]
  },
  {
   "cell_type": "code",
   "execution_count": null,
   "metadata": {},
   "outputs": [],
   "source": [
    "datamodule = FashionMNISTDataModule(data_dir   = settings.DATASETS_DIR, \n",
    "                                    batch_size = 256,\n",
    "                                    Nsamples   = 16384,\n",
    "                                    valid_frac = 1./4.,\n",
    "                                    random_state = settings.MAGIC_NUM,\n",
    "                                   )"
   ]
  },
  {
   "cell_type": "code",
   "execution_count": null,
   "metadata": {},
   "outputs": [],
   "source": [
    "from autoencoder.symmetric_autoencoder import SymmetricAutoencoderHPS\n",
    "\n",
    "# hyper-parameters space definition\n",
    "### each line is: kernel size, stride, padding\n",
    "proposed_conv = [ [[3, 2, 0], # shape through network: 28  -> 13  -> 6  -> 4\n",
    "                   [3, 2, 0],\n",
    "                   [3, 1, 0],\n",
    "                  ],\n",
    "                  [[5, 2, 1], # shape through network: 28  -> 13  -> 6  -> 4\n",
    "                   [3, 2, 0],\n",
    "                   [3, 1, 0],\n",
    "                  ],\n",
    "                  [[3, 2, 1], # shape through network: 28  -> 14  -> 7  -> 3\n",
    "                   [3, 2, 1], \n",
    "                   [3, 2, 0],\n",
    "                  ],\n",
    "                  [[5, 2, 1], # shape through network: 28  -> 13  -> 7  -> 7\n",
    "                   [3, 2, 1],\n",
    "                   [3, 1, 1],\n",
    "                  ],\n",
    "                  [[7, 2, 2], # shape through network: 28  -> 13  -> 8  -> 8 \n",
    "                   [3, 2, 2],\n",
    "                   [3, 1, 1],\n",
    "                  ],\n",
    "                  [[9, 4, 2], # shape through network: 28  -> 6   -> 6  -> 6\n",
    "                   [5, 1, 2],\n",
    "                   [3, 1, 1],\n",
    "                  ],\n",
    "                  [[5, 2, 1], # shape through network: 28  -> 13  -> 7  -> 7  \n",
    "                   [5, 2, 2],\n",
    "                   [3, 1, 1],\n",
    "                  ],\n",
    "                ]\n",
    "\n",
    "hps_dict = dict(conv_configs        = proposed_conv,  \n",
    "                channels_range      = [16, 128, 8],   # min, max, step\n",
    "                n_linear            = [1],            # number of linear layers\n",
    "                linear_units_range  = [32, 256, 16],  # min, max, step\n",
    "                latent_space_range  = [4, 64, 2],     # min, max, step\n",
    "                batch_norm          = [True, False],  # batch norm is applied only between conv. layers\n",
    "                Pdropout_range      = [0., 0.3],      # dropout is applied only between linear layers\n",
    "                activations         = [\"relu\"],       \n",
    "                optimizers          = [\"adam\", \"sgd\", \"adamax\"], \n",
    "                learning_rate_range = [5e-5, 1e-1],\n",
    "                L2_penalty_range    = [1e-6, 1e-4],\n",
    "                momentum_range      = [0.6, 0.99],    # used with SGD optimizer\n",
    "               )\n",
    "\n",
    "hp_space = SymmetricAutoencoderHPS(hps_dict)"
   ]
  },
  {
   "cell_type": "code",
   "execution_count": null,
   "metadata": {},
   "outputs": [],
   "source": [
    "from utilities.train_tools import Objective\n",
    "\n",
    "### optuna study objective function\n",
    "objective = Objective(model_class = SymmetricAutoencoder, \n",
    "                      datamodule  = datamodule, \n",
    "                      hp_space    = hp_space,\n",
    "                      max_epochs  = 30, \n",
    "                      use_gpu     = settings.USE_GPU,\n",
    "                      early_stop_patience = 3,\n",
    "                     )\n",
    "\n",
    "### MedianPruner\n",
    "pruner = optuna.pruners.MedianPruner(n_startup_trials = 10,    # trials to complete before starting to prune\n",
    "                                     n_warmup_steps   = 20,    # steps to take before evaluating pruning\n",
    "                                     interval_steps   = 10,    # steps between trial pruning checks\n",
    "                                    )\n",
    "\n",
    "# Make the default sampler behave in a deterministic way\n",
    "sampler = optuna.samplers.TPESampler(seed = settings.MAGIC_NUM,\n",
    "                                     n_startup_trials = 10,    # use random sampling at beginning\n",
    "                                    )\n",
    "### create study\n",
    "os.makedirs(settings.autoencoder.OPTUNA_DIR, exist_ok=True)\n",
    "\n",
    "study = optuna.create_study(study_name = settings.autoencoder.OPTUNA_STUDY_NAME, \n",
    "                            direction  = \"minimize\",\n",
    "                            pruner     = pruner,\n",
    "                            sampler    = sampler,\n",
    "                            storage    = \"sqlite:///\"+settings.autoencoder.OPTUNA_DIR+\"/\"+study_name+\".db\",\n",
    "                            load_if_exists = True,\n",
    "                           )\n",
    "\n",
    "### run optimization\n",
    "logging.captureWarnings(True)\n",
    "\n",
    "Ntrials = 10\n",
    "MaxTime = None\n",
    "\n",
    "print(\"Starting study '\"+study.study_name+f\"' with n_trials={Ntrials} and timeout={MaxTime}\")\n",
    "study.optimize(objective, \n",
    "               n_trials       = Ntrials, \n",
    "               timeout        = MaxTime, # timeout in seconds\n",
    "               gc_after_trial = True,    # run garbage collection \n",
    "              ) \n",
    "\n",
    "logging.captureWarnings(False)"
   ]
  },
  {
   "cell_type": "code",
   "execution_count": null,
   "metadata": {},
   "outputs": [],
   "source": []
  },
  {
   "cell_type": "markdown",
   "metadata": {},
   "source": [
    "# Denoising Autoencoder <a name=\"denoising_autoencoder\"></a>\n",
    "<div style=\"text-align: right\"\n",
    "     \n",
    "[Table of contents](#toc) "
   ]
  },
  {
   "cell_type": "code",
   "execution_count": null,
   "metadata": {},
   "outputs": [],
   "source": []
  },
  {
   "cell_type": "markdown",
   "metadata": {},
   "source": [
    "# Transfer Learning <a name=\"transfer_learning\"></a>\n",
    "<div style=\"text-align: right\"\n",
    "     \n",
    "[Table of contents](#toc) "
   ]
  },
  {
   "cell_type": "code",
   "execution_count": null,
   "metadata": {},
   "outputs": [],
   "source": []
  },
  {
   "cell_type": "markdown",
   "metadata": {},
   "source": [
    "# Variational Autoencoder <a name=\"VAE\"></a>\n",
    "<div style=\"text-align: right\"\n",
    "     \n",
    "[Table of contents](#toc) "
   ]
  },
  {
   "cell_type": "code",
   "execution_count": null,
   "metadata": {},
   "outputs": [],
   "source": []
  }
 ],
 "metadata": {
  "kernelspec": {
   "display_name": "Python 3",
   "language": "python",
   "name": "python3"
  },
  "language_info": {
   "codemirror_mode": {
    "name": "ipython",
    "version": 3
   },
   "file_extension": ".py",
   "mimetype": "text/x-python",
   "name": "python",
   "nbconvert_exporter": "python",
   "pygments_lexer": "ipython3",
   "version": "3.8.5"
  }
 },
 "nbformat": 4,
 "nbformat_minor": 4
}
